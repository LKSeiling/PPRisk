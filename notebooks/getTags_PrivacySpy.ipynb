{
 "cells": [
  {
   "cell_type": "code",
   "execution_count": 1,
   "metadata": {},
   "outputs": [],
   "source": [
    "import re\n",
    "import toml\n",
    "import requests\n",
    "import fasttext\n",
    "import pandas as pd\n",
    "\n",
    "from nltk import tokenize\n",
    "from bs4 import BeautifulSoup\n",
    "from os import listdir, getcwd\n",
    "from tqdm.notebook import tqdm\n",
    "from os.path import isfile, join"
   ]
  },
  {
   "cell_type": "markdown",
   "metadata": {},
   "source": [
    "## 1. Clean existing data"
   ]
  },
  {
   "cell_type": "code",
   "execution_count": 2,
   "metadata": {},
   "outputs": [],
   "source": [
    "def remove_md_links(input_str):\n",
    "    re_detect = r'\\[([\\d\\w\\s]*)\\]\\(http[s]?:\\/\\/(?:[a-zA-Z]|[0-9]|[$-_@.&+]|[!*\\(\\),]|(?:%[0-9a-fA-F][0-9a-fA-F]))+\\)'\n",
    "    return re.sub(re_detect,r'\\1', input_str)\n",
    "\n",
    "def clean_toml_multiline(data_str):\n",
    "    # identify \"\"\"-sections\n",
    "    split_list = data_str.split('\"\"\"')\n",
    "    split_list = [elem.strip() for elem in split_list]\n",
    "    if len(split_list) == 1:\n",
    "        return split_list[0]\n",
    "    else:\n",
    "        # replace \\n within \"\"\" \"\"\"-blocks with \\\\n\\\\n\n",
    "        output_content = []\n",
    "        for idx, elem in enumerate(split_list):\n",
    "            if idx%2!=0:\n",
    "                elem = elem.replace(\"\\n\",\"\\\\n\")\n",
    "                elem = elem.replace('\"',\"'\")\n",
    "            output_content.append(elem)\n",
    "        return '\"'.join(output_content)\n",
    "\n",
    "def clean_toml(filepath):\n",
    "    with open(filepath, \"r\") as f:\n",
    "        data_str = f.read()\n",
    "        f.close\n",
    "    data_str = remove_md_links(data_str)\n",
    "    data_str = clean_toml_multiline(data_str)\n",
    "    return data_str\n",
    "\n",
    "def str_to_file(input_str, filepath):\n",
    "    with open(filepath, \"w\") as f:\n",
    "        f.write(input_str)\n",
    "        f.close"
   ]
  },
  {
   "cell_type": "code",
   "execution_count": null,
   "metadata": {},
   "outputs": [],
   "source": [
    "orig_toml_path = \"/\".join([getcwd(), \"privacyspy/products/\"])\n",
    "orig_toml_files = [f for f in listdir(orig_toml_path) if (isfile(join(orig_toml_path, f))) and (\".toml\" in f)]"
   ]
  },
  {
   "cell_type": "code",
   "execution_count": null,
   "metadata": {},
   "outputs": [],
   "source": [
    "for toml_file in tqdm(orig_toml_files):\n",
    "    toml_clean_str = clean_toml(\"\".join([orig_toml_path, toml_file]))\n",
    "    file_path = \"/\".join([getcwd(), \"data_rel/saved/privacyspy/clean_tomls\",toml_file])\n",
    "    str_to_file(toml_clean_str, file_path)"
   ]
  },
  {
   "cell_type": "markdown",
   "metadata": {},
   "source": [
    "## 2. Bring clean data into proper format for further analysis"
   ]
  },
  {
   "cell_type": "code",
   "execution_count": 3,
   "metadata": {},
   "outputs": [
    {
     "name": "stderr",
     "output_type": "stream",
     "text": [
      "Warning : `load_model` does not return WordVectorModel or SupervisedModel any more, but a `FastText` object which is very similar.\n"
     ]
    }
   ],
   "source": [
    "PRETRAINED_MODEL_PATH = './models/fasttext/lid.176.bin'\n",
    "model = fasttext.load_model(PRETRAINED_MODEL_PATH)\n",
    "\n",
    "def ft_guess_language(inpt):\n",
    "    label,prec = model.predict(inpt)\n",
    "    lang = label[0].split(\"__\")[2]\n",
    "    prec_f = prec[0]\n",
    "    return lang, prec_f"
   ]
  },
  {
   "cell_type": "code",
   "execution_count": 4,
   "metadata": {},
   "outputs": [],
   "source": [
    "def toml_to_df(toml_dict):\n",
    "    service_name = toml_dict['name']\n",
    "    sources = \", \".join(toml_dict['sources'])\n",
    "    text_df = extract_citations(toml_dict['rubric'])\n",
    "    text_df.insert(0, \"sources\", sources)\n",
    "    text_df.insert(0, \"service_name\", service_name)\n",
    "    return text_df\n",
    "\n",
    "def extract_citations(rubric_dict):\n",
    "    res_df = pd.DataFrame(columns=[\"text\",\"tag\",\"value\",\"tagval\",\"notes\", \"lang\", \"prec\"])\n",
    "    for key, val in rubric_dict.items():\n",
    "        tag = key\n",
    "        if 'citations' in val:\n",
    "            value = val['value']\n",
    "            tagval = \"-\".join([tag, value])\n",
    "            notes = \" \".join(val['notes']) if \"notes\" in val else \"\"   \n",
    "            for citation in val['citations']:\n",
    "                sent_list = split_into_clean_sentences(citation)\n",
    "                for sentence in sent_list:\n",
    "                    if len(sentence.split(\" \")) > 3: # mehr als drei wörter\n",
    "                        lang, prec = ft_guess_language(sentence)\n",
    "                        new_row = {'text':sentence,'tag':tag,'value':value, 'tagval':tagval,'notes':notes,\n",
    "                                   \"lang\":lang, \"prec\":prec}\n",
    "                        res_df = res_df.append(new_row,ignore_index=True)\n",
    "    return res_df\n",
    "\n",
    "def split_into_clean_sentences(input_str) -> list:\n",
    "    sent_list = tokenize.sent_tokenize(input_str)\n",
    "    sent_list = [tkn.split(\"\\n\") for tkn in sent_list]\n",
    "    sent_list = [tkn_list for sublist in sent_list for tkn_list in sublist]\n",
    "    sent_list = [strip_nonalphanumeric(tkn.strip()).lower() for tkn in sent_list]\n",
    "    return sent_list\n",
    "\n",
    "def strip_nonalphanumeric(input_str):\n",
    "    return re.sub(r\"^\\W+|\\W+$\", \"\", input_str)"
   ]
  },
  {
   "cell_type": "code",
   "execution_count": null,
   "metadata": {},
   "outputs": [],
   "source": [
    "clean_toml_path = \"/\".join([getcwd(), \"data_rel/saved/privacyspy/clean_tomls/\"])\n",
    "toml_files = [f for f in listdir(clean_toml_path) if (isfile(join(clean_toml_path, f))) and (\".toml\" in f)]"
   ]
  },
  {
   "cell_type": "code",
   "execution_count": null,
   "metadata": {},
   "outputs": [],
   "source": [
    "all_dfs = pd.DataFrame(columns=[\"service_name\", \"sources\", \"text\",\"tag\",\"value\",\"tagval\",\"notes\", \"lang\", \"prec\"])\n",
    "for toml_file in tqdm(toml_files):\n",
    "    #print(\"'{}'\".format(toml_file))\n",
    "    toml_dict = toml.load(\"\".join([clean_toml_path, toml_file]))\n",
    "    if \"sources\" in toml_dict: # only include examples where source can be traced\n",
    "        rubric_df = toml_to_df(toml_dict)\n",
    "        file_name = \"\".join([getcwd(),\"/data_rel/saved/privacyspy/services/\",\n",
    "                             re.sub(\".toml\",\"\",toml_file), \".csv\"])\n",
    "        rubric_df.to_csv(file_name, index=False, sep=\"\\t\")\n",
    "        all_dfs = pd.concat([all_dfs, rubric_df])\n",
    "all_dfs.to_csv(\"\".join([getcwd(),\"/data_rel/saved/privacyspy/privspy_all_points.csv\"]), index=False, sep=\"\\t\")"
   ]
  },
  {
   "cell_type": "markdown",
   "metadata": {},
   "source": [
    "## 3. Extract associated negative samples (and verify data)\n",
    "### 3.1. Scrape data sources"
   ]
  },
  {
   "cell_type": "code",
   "execution_count": 1,
   "metadata": {},
   "outputs": [
    {
     "ename": "NameError",
     "evalue": "name 'getcwd' is not defined",
     "output_type": "error",
     "traceback": [
      "\u001b[0;31m---------------------------------------------------------------------------\u001b[0m",
      "\u001b[0;31mNameError\u001b[0m                                 Traceback (most recent call last)",
      "\u001b[0;32m<ipython-input-1-f36d991cd394>\u001b[0m in \u001b[0;36m<module>\u001b[0;34m\u001b[0m\n\u001b[0;32m----> 1\u001b[0;31m \u001b[0mpath_all\u001b[0m \u001b[0;34m=\u001b[0m \u001b[0;34m\"\"\u001b[0m\u001b[0;34m.\u001b[0m\u001b[0mjoin\u001b[0m\u001b[0;34m(\u001b[0m\u001b[0;34m[\u001b[0m\u001b[0mgetcwd\u001b[0m\u001b[0;34m(\u001b[0m\u001b[0;34m)\u001b[0m\u001b[0;34m,\u001b[0m\u001b[0;34m\"/data_rel/saved/privacyspy/privspy_all_points.csv\"\u001b[0m\u001b[0;34m]\u001b[0m\u001b[0;34m)\u001b[0m\u001b[0;34m\u001b[0m\u001b[0;34m\u001b[0m\u001b[0m\n\u001b[0m\u001b[1;32m      2\u001b[0m \u001b[0mall_dfs\u001b[0m \u001b[0;34m=\u001b[0m \u001b[0mpd\u001b[0m\u001b[0;34m.\u001b[0m\u001b[0mread_csv\u001b[0m\u001b[0;34m(\u001b[0m\u001b[0mpath_all\u001b[0m\u001b[0;34m,\u001b[0m \u001b[0msep\u001b[0m\u001b[0;34m=\u001b[0m\u001b[0;34m\"\\t\"\u001b[0m\u001b[0;34m)\u001b[0m\u001b[0;34m\u001b[0m\u001b[0;34m\u001b[0m\u001b[0m\n",
      "\u001b[0;31mNameError\u001b[0m: name 'getcwd' is not defined"
     ]
    }
   ],
   "source": [
    "path_all = \"\".join([getcwd(),\"/data_rel/saved/privacyspy/privspy_all_points.csv\"])\n",
    "all_dfs = pd.read_csv(path_all, sep=\"\\t\")"
   ]
  },
  {
   "cell_type": "code",
   "execution_count": null,
   "metadata": {},
   "outputs": [],
   "source": [
    "sources = list(all_dfs.sources.unique())\n",
    "all_sources = []\n",
    "for elem in sources:\n",
    "    split_elem = elem.split(\", \")\n",
    "    if len(split_elem) == 1:\n",
    "        all_sources.append(split_elem[0])\n",
    "    else:\n",
    "        for sub_elem in split_elem:\n",
    "            all_sources.append(sub_elem)"
   ]
  },
  {
   "cell_type": "code",
   "execution_count": null,
   "metadata": {},
   "outputs": [],
   "source": [
    "all_sources = [\"\".join([\"https://www.\",source]) if \"http\" not in source else source for source in all_sources]"
   ]
  },
  {
   "cell_type": "code",
   "execution_count": 5,
   "metadata": {},
   "outputs": [],
   "source": [
    "from selenium.webdriver import Firefox\n",
    "from selenium.webdriver.support.ui import WebDriverWait\n",
    "from selenium.webdriver.support import expected_conditions as EC\n",
    "from selenium.webdriver.common.by import By\n",
    "from selenium.webdriver.common.keys import Keys\n",
    "\n",
    "from time import sleep"
   ]
  },
  {
   "cell_type": "code",
   "execution_count": 6,
   "metadata": {},
   "outputs": [],
   "source": [
    "def get_topics_from_html(topic_url):\n",
    "    topic_soup = response_to_soup(topic_url)\n",
    "    return topic_soup.find_all('a',title=\"View more details\")\n",
    "\n",
    "def get_source_soup(source_url):\n",
    "    driver = Firefox()\n",
    "    driver.get(source_url)\n",
    "    source_soup = BeautifulSoup(driver.page_source, 'html.parser')\n",
    "    driver.close()\n",
    "    driver.quit()\n",
    "    return source_soup\n",
    "\n",
    "def remove_links(input_string):\n",
    "    return re.sub(r\"<.?link[^>]*>|<a[^>]*>\", \"\", input_string)\n",
    "\n",
    "def replace_html_tags(input_string, replacement):\n",
    "    return re.sub('<[^>]*>', replacement, input_string)\n",
    "\n",
    "def flatten(lst):\n",
    "    return [elem for sublist in lst for elem in sublist]\n",
    "\n",
    "def list_from_soup(bs_elem):\n",
    "    body_string = str(bs_elem.find(\"body\"))\n",
    "    body_clean = remove_links(body_string)\n",
    "    body_list = replace_html_tags(body_clean, \"*--*\").split(\"*--*\")\n",
    "    clean_list = [split_into_clean_sentences(elem) for elem in body_list if elem != \"\"]\n",
    "    clean_list = flatten(clean_list)\n",
    "    clean_list = [elem for elem in clean_list if elem]\n",
    "    return clean_list"
   ]
  },
  {
   "cell_type": "code",
   "execution_count": null,
   "metadata": {},
   "outputs": [],
   "source": [
    "res_df = pd.DataFrame(columns=[\"source\", \"text\", \"lang\", \"prec\"])\n",
    "for source in tqdm(all_sources):\n",
    "    try:\n",
    "        source_soup = get_source_soup(source)\n",
    "        clean_list = list_from_soup(source_soup)\n",
    "        for elem in clean_list:\n",
    "            if len(elem.split(\" \")) > 3:\n",
    "                lang, prec = ft_guess_language(elem)\n",
    "                new_row = {'source':source,'text':elem,\"lang\":lang, \"prec\":prec}\n",
    "                res_df = res_df.append(new_row, ignore_index=True)\n",
    "    except:\n",
    "        new_row = {'source':source,'text':\"ERROR\",\"lang\":\"ERROR\", \"prec\":\"ERROR\"}\n",
    "        res_df = res_df.append(new_row, ignore_index=True)\n",
    "    res_df.to_csv(\"\".join([getcwd(),\"/data_rel/saved/privacyspy/privspy_all_text.csv\"]), index=False, sep=\"\\t\")"
   ]
  },
  {
   "cell_type": "markdown",
   "metadata": {},
   "source": [
    "### 3.2. examine scraped data"
   ]
  },
  {
   "cell_type": "markdown",
   "metadata": {},
   "source": [
    "quickcheck: how many of sentencs extracted from privacyspy.org are in associated scraped data set?"
   ]
  },
  {
   "cell_type": "code",
   "execution_count": 177,
   "metadata": {},
   "outputs": [],
   "source": [
    "from matplotlib import pyplot as plt"
   ]
  },
  {
   "cell_type": "code",
   "execution_count": 107,
   "metadata": {},
   "outputs": [],
   "source": [
    "all_points = pd.read_csv(\"\".join([getcwd(),\"/data_rel/saved/privacyspy/privspy_all_points.csv\"]), sep= \"\\t\")"
   ]
  },
  {
   "cell_type": "code",
   "execution_count": 105,
   "metadata": {},
   "outputs": [],
   "source": [
    "all_text = pd.read_csv(\"\".join([getcwd(),\"/data_rel/saved/privacyspy/privspy_all_text.csv\"]), sep=\"\\t\")"
   ]
  },
  {
   "cell_type": "code",
   "execution_count": 163,
   "metadata": {},
   "outputs": [],
   "source": [
    "def check_in_scraped(row):\n",
    "    all_sources = row['sources'].split(\", \")\n",
    "    rel_scraped = all_text[all_text.source.isin(all_sources)]\n",
    "    text_list = rel_scraped['text'].to_list()\n",
    "    return int(row['text'] in text_list)"
   ]
  },
  {
   "cell_type": "code",
   "execution_count": 164,
   "metadata": {},
   "outputs": [],
   "source": [
    "all_points[\"in_scraped\"] = all_points.apply(check_in_scraped, axis=1)"
   ]
  },
  {
   "cell_type": "code",
   "execution_count": 174,
   "metadata": {},
   "outputs": [],
   "source": [
    "percs_contained = all_points.groupby([\"service_name\"]).agg(perc_in_scrape=('in_scraped', 'mean'),).value_counts()"
   ]
  },
  {
   "cell_type": "code",
   "execution_count": 176,
   "metadata": {},
   "outputs": [
    {
     "data": {
      "image/png": "[encoded data removed]",
      "text/plain": [
       "<Figure size 432x288 with 1 Axes>"
      ]
     },
     "metadata": {
      "needs_background": "light"
     },
     "output_type": "display_data"
    }
   ],
   "source": [
    "plt.hist(percs_contained, bins=50)\n",
    "plt.xlabel('percentage contained in scrape')\n",
    "plt.ylabel('number services')\n",
    "\n",
    "plt.show()"
   ]
  },
  {
   "cell_type": "markdown",
   "metadata": {},
   "source": [
    "more thorough cleanup"
   ]
  },
  {
   "cell_type": "code",
   "execution_count": 152,
   "metadata": {},
   "outputs": [
    {
     "data": {
      "text/html": [
       "<div>\n",
       "<style scoped>\n",
       "    .dataframe tbody tr th:only-of-type {\n",
       "        vertical-align: middle;\n",
       "    }\n",
       "\n",
       "    .dataframe tbody tr th {\n",
       "        vertical-align: top;\n",
       "    }\n",
       "\n",
       "    .dataframe thead th {\n",
       "        text-align: right;\n",
       "    }\n",
       "</style>\n",
       "<table border=\"1\" class=\"dataframe\">\n",
       "  <thead>\n",
       "    <tr style=\"text-align: right;\">\n",
       "      <th></th>\n",
       "      <th>service_name</th>\n",
       "      <th>sources</th>\n",
       "      <th>text</th>\n",
       "      <th>tag</th>\n",
       "      <th>value</th>\n",
       "      <th>tagval</th>\n",
       "      <th>notes</th>\n",
       "      <th>lang</th>\n",
       "      <th>prec</th>\n",
       "      <th>in_scraped</th>\n",
       "    </tr>\n",
       "  </thead>\n",
       "  <tbody>\n",
       "    <tr>\n",
       "      <th>0</th>\n",
       "      <td>NordVPN</td>\n",
       "      <td>https://nordvpn.com/privacy-policy/</td>\n",
       "      <td>nordvpn may process your personal data (email ...</td>\n",
       "      <td>behavioral-marketing</td>\n",
       "      <td>yes-opt-in</td>\n",
       "      <td>behavioral-marketing-yes-opt-in</td>\n",
       "      <td>NaN</td>\n",
       "      <td>en</td>\n",
       "      <td>0.940443</td>\n",
       "      <td>1</td>\n",
       "    </tr>\n",
       "    <tr>\n",
       "      <th>1</th>\n",
       "      <td>NordVPN</td>\n",
       "      <td>https://nordvpn.com/privacy-policy/</td>\n",
       "      <td>in order to ensure security of the personal da...</td>\n",
       "      <td>security</td>\n",
       "      <td>somewhat</td>\n",
       "      <td>security-somewhat</td>\n",
       "      <td>The policy is very vague about this, but an in...</td>\n",
       "      <td>en</td>\n",
       "      <td>0.875180</td>\n",
       "      <td>1</td>\n",
       "    </tr>\n",
       "    <tr>\n",
       "      <th>2</th>\n",
       "      <td>NordVPN</td>\n",
       "      <td>https://nordvpn.com/privacy-policy/</td>\n",
       "      <td>the date of the most current wording of the pr...</td>\n",
       "      <td>history</td>\n",
       "      <td>last-modified</td>\n",
       "      <td>history-last-modified</td>\n",
       "      <td>NaN</td>\n",
       "      <td>en</td>\n",
       "      <td>0.932889</td>\n",
       "      <td>1</td>\n",
       "    </tr>\n",
       "    <tr>\n",
       "      <th>3</th>\n",
       "      <td>NordVPN</td>\n",
       "      <td>https://nordvpn.com/privacy-policy/</td>\n",
       "      <td>you may request us to discontinue processing o...</td>\n",
       "      <td>data-deletion</td>\n",
       "      <td>yes-contact</td>\n",
       "      <td>data-deletion-yes-contact</td>\n",
       "      <td>NaN</td>\n",
       "      <td>en</td>\n",
       "      <td>0.947861</td>\n",
       "      <td>1</td>\n",
       "    </tr>\n",
       "    <tr>\n",
       "      <th>4</th>\n",
       "      <td>NordVPN</td>\n",
       "      <td>https://nordvpn.com/privacy-policy/</td>\n",
       "      <td>accounting, invoicing, processing refunds</td>\n",
       "      <td>data-deletion</td>\n",
       "      <td>yes-contact</td>\n",
       "      <td>data-deletion-yes-contact</td>\n",
       "      <td>NaN</td>\n",
       "      <td>en</td>\n",
       "      <td>0.861502</td>\n",
       "      <td>1</td>\n",
       "    </tr>\n",
       "    <tr>\n",
       "      <th>...</th>\n",
       "      <td>...</td>\n",
       "      <td>...</td>\n",
       "      <td>...</td>\n",
       "      <td>...</td>\n",
       "      <td>...</td>\n",
       "      <td>...</td>\n",
       "      <td>...</td>\n",
       "      <td>...</td>\n",
       "      <td>...</td>\n",
       "      <td>...</td>\n",
       "    </tr>\n",
       "    <tr>\n",
       "      <th>13351</th>\n",
       "      <td>Babbel</td>\n",
       "      <td>https://about.babbel.com/privacy/</td>\n",
       "      <td>visual website optimizer (optimization of the ...</td>\n",
       "      <td>noncritical-purposes</td>\n",
       "      <td>opt-out-some</td>\n",
       "      <td>noncritical-purposes-opt-out-some</td>\n",
       "      <td>NaN</td>\n",
       "      <td>en</td>\n",
       "      <td>0.731471</td>\n",
       "      <td>1</td>\n",
       "    </tr>\n",
       "    <tr>\n",
       "      <th>13352</th>\n",
       "      <td>Babbel</td>\n",
       "      <td>https://about.babbel.com/privacy/</td>\n",
       "      <td>google adwords (marketing, campaign measuremen...</td>\n",
       "      <td>noncritical-purposes</td>\n",
       "      <td>opt-out-some</td>\n",
       "      <td>noncritical-purposes-opt-out-some</td>\n",
       "      <td>NaN</td>\n",
       "      <td>en</td>\n",
       "      <td>0.373518</td>\n",
       "      <td>1</td>\n",
       "    </tr>\n",
       "    <tr>\n",
       "      <th>13353</th>\n",
       "      <td>Babbel</td>\n",
       "      <td>https://about.babbel.com/privacy/</td>\n",
       "      <td>google tag manager (marketing, [https://www.go...</td>\n",
       "      <td>noncritical-purposes</td>\n",
       "      <td>opt-out-some</td>\n",
       "      <td>noncritical-purposes-opt-out-some</td>\n",
       "      <td>NaN</td>\n",
       "      <td>en</td>\n",
       "      <td>0.774274</td>\n",
       "      <td>1</td>\n",
       "    </tr>\n",
       "    <tr>\n",
       "      <th>13354</th>\n",
       "      <td>Babbel</td>\n",
       "      <td>https://about.babbel.com/privacy/</td>\n",
       "      <td>sharethis (social media plugin, [https://www.s...</td>\n",
       "      <td>noncritical-purposes</td>\n",
       "      <td>opt-out-some</td>\n",
       "      <td>noncritical-purposes-opt-out-some</td>\n",
       "      <td>NaN</td>\n",
       "      <td>en</td>\n",
       "      <td>0.662336</td>\n",
       "      <td>1</td>\n",
       "    </tr>\n",
       "    <tr>\n",
       "      <th>13355</th>\n",
       "      <td>Babbel</td>\n",
       "      <td>https://about.babbel.com/privacy/</td>\n",
       "      <td>lesson nine does not forward the personal data...</td>\n",
       "      <td>law-enforcement</td>\n",
       "      <td>reasonable</td>\n",
       "      <td>law-enforcement-reasonable</td>\n",
       "      <td>This is vague enough to be at their discretion.</td>\n",
       "      <td>en</td>\n",
       "      <td>0.931678</td>\n",
       "      <td>1</td>\n",
       "    </tr>\n",
       "  </tbody>\n",
       "</table>\n",
       "<p>13356 rows × 10 columns</p>\n",
       "</div>"
      ],
      "text/plain": [
       "      service_name                              sources  \\\n",
       "0          NordVPN  https://nordvpn.com/privacy-policy/   \n",
       "1          NordVPN  https://nordvpn.com/privacy-policy/   \n",
       "2          NordVPN  https://nordvpn.com/privacy-policy/   \n",
       "3          NordVPN  https://nordvpn.com/privacy-policy/   \n",
       "4          NordVPN  https://nordvpn.com/privacy-policy/   \n",
       "...            ...                                  ...   \n",
       "13351       Babbel    https://about.babbel.com/privacy/   \n",
       "13352       Babbel    https://about.babbel.com/privacy/   \n",
       "13353       Babbel    https://about.babbel.com/privacy/   \n",
       "13354       Babbel    https://about.babbel.com/privacy/   \n",
       "13355       Babbel    https://about.babbel.com/privacy/   \n",
       "\n",
       "                                                    text  \\\n",
       "0      nordvpn may process your personal data (email ...   \n",
       "1      in order to ensure security of the personal da...   \n",
       "2      the date of the most current wording of the pr...   \n",
       "3      you may request us to discontinue processing o...   \n",
       "4              accounting, invoicing, processing refunds   \n",
       "...                                                  ...   \n",
       "13351  visual website optimizer (optimization of the ...   \n",
       "13352  google adwords (marketing, campaign measuremen...   \n",
       "13353  google tag manager (marketing, [https://www.go...   \n",
       "13354  sharethis (social media plugin, [https://www.s...   \n",
       "13355  lesson nine does not forward the personal data...   \n",
       "\n",
       "                        tag          value                             tagval  \\\n",
       "0      behavioral-marketing     yes-opt-in    behavioral-marketing-yes-opt-in   \n",
       "1                  security       somewhat                  security-somewhat   \n",
       "2                   history  last-modified              history-last-modified   \n",
       "3             data-deletion    yes-contact          data-deletion-yes-contact   \n",
       "4             data-deletion    yes-contact          data-deletion-yes-contact   \n",
       "...                     ...            ...                                ...   \n",
       "13351  noncritical-purposes   opt-out-some  noncritical-purposes-opt-out-some   \n",
       "13352  noncritical-purposes   opt-out-some  noncritical-purposes-opt-out-some   \n",
       "13353  noncritical-purposes   opt-out-some  noncritical-purposes-opt-out-some   \n",
       "13354  noncritical-purposes   opt-out-some  noncritical-purposes-opt-out-some   \n",
       "13355       law-enforcement     reasonable         law-enforcement-reasonable   \n",
       "\n",
       "                                                   notes lang      prec  \\\n",
       "0                                                    NaN   en  0.940443   \n",
       "1      The policy is very vague about this, but an in...   en  0.875180   \n",
       "2                                                    NaN   en  0.932889   \n",
       "3                                                    NaN   en  0.947861   \n",
       "4                                                    NaN   en  0.861502   \n",
       "...                                                  ...  ...       ...   \n",
       "13351                                                NaN   en  0.731471   \n",
       "13352                                                NaN   en  0.373518   \n",
       "13353                                                NaN   en  0.774274   \n",
       "13354                                                NaN   en  0.662336   \n",
       "13355    This is vague enough to be at their discretion.   en  0.931678   \n",
       "\n",
       "       in_scraped  \n",
       "0               1  \n",
       "1               1  \n",
       "2               1  \n",
       "3               1  \n",
       "4               1  \n",
       "...           ...  \n",
       "13351           1  \n",
       "13352           1  \n",
       "13353           1  \n",
       "13354           1  \n",
       "13355           1  \n",
       "\n",
       "[13356 rows x 10 columns]"
      ]
     },
     "execution_count": 152,
     "metadata": {},
     "output_type": "execute_result"
    }
   ],
   "source": [
    "all_points"
   ]
  },
  {
   "cell_type": "code",
   "execution_count": 67,
   "metadata": {},
   "outputs": [],
   "source": [
    "def check_for_code(input_string):\n",
    "    if \"{\" in input_string or \"}\" in input_string or \"=\" in input_string:\n",
    "        return 1\n",
    "    else:\n",
    "        return 0"
   ]
  },
  {
   "cell_type": "code",
   "execution_count": 68,
   "metadata": {},
   "outputs": [],
   "source": [
    "all_text['pot_code'] = all_text['text'].apply(check_for_code)"
   ]
  },
  {
   "cell_type": "code",
   "execution_count": 55,
   "metadata": {},
   "outputs": [
    {
     "data": {
      "text/html": [
       "<div>\n",
       "<style scoped>\n",
       "    .dataframe tbody tr th:only-of-type {\n",
       "        vertical-align: middle;\n",
       "    }\n",
       "\n",
       "    .dataframe tbody tr th {\n",
       "        vertical-align: top;\n",
       "    }\n",
       "\n",
       "    .dataframe thead th {\n",
       "        text-align: right;\n",
       "    }\n",
       "</style>\n",
       "<table border=\"1\" class=\"dataframe\">\n",
       "  <thead>\n",
       "    <tr style=\"text-align: right;\">\n",
       "      <th></th>\n",
       "      <th>source</th>\n",
       "      <th>text</th>\n",
       "      <th>lang</th>\n",
       "      <th>prec</th>\n",
       "    </tr>\n",
       "  </thead>\n",
       "  <tbody>\n",
       "    <tr>\n",
       "      <th>29086</th>\n",
       "      <td>https://ruqqus.com/help/privacy</td>\n",
       "      <td>ERROR</td>\n",
       "      <td>ERROR</td>\n",
       "      <td>ERROR</td>\n",
       "    </tr>\n",
       "    <tr>\n",
       "      <th>54518</th>\n",
       "      <td>https://openbazaar.org/privacy/</td>\n",
       "      <td>ERROR</td>\n",
       "      <td>ERROR</td>\n",
       "      <td>ERROR</td>\n",
       "    </tr>\n",
       "    <tr>\n",
       "      <th>61547</th>\n",
       "      <td>https://houseparty.com/privacy/</td>\n",
       "      <td>ERROR</td>\n",
       "      <td>ERROR</td>\n",
       "      <td>ERROR</td>\n",
       "    </tr>\n",
       "  </tbody>\n",
       "</table>\n",
       "</div>"
      ],
      "text/plain": [
       "                                source   text   lang   prec\n",
       "29086  https://ruqqus.com/help/privacy  ERROR  ERROR  ERROR\n",
       "54518  https://openbazaar.org/privacy/  ERROR  ERROR  ERROR\n",
       "61547  https://houseparty.com/privacy/  ERROR  ERROR  ERROR"
      ]
     },
     "execution_count": 55,
     "metadata": {},
     "output_type": "execute_result"
    }
   ],
   "source": [
    "all_text[all_text[\"text\"]==\"ERROR\"]"
   ]
  },
  {
   "cell_type": "code",
   "execution_count": 79,
   "metadata": {},
   "outputs": [],
   "source": [
    "code_percs = all_text.groupby([\"source\"]).agg(perc_code=('pot_code', 'mean'),)"
   ]
  },
  {
   "cell_type": "code",
   "execution_count": 98,
   "metadata": {},
   "outputs": [],
   "source": [
    "most_code = []\n",
    "for row in code_percs.iterrows():\n",
    "    if row[1].unique() > .3:\n",
    "        most_code.append(row[0])"
   ]
  },
  {
   "cell_type": "code",
   "execution_count": 99,
   "metadata": {},
   "outputs": [],
   "source": [
    "code_pols = all_text[all_text.source.isin(most_code)]"
   ]
  },
  {
   "cell_type": "code",
   "execution_count": 102,
   "metadata": {},
   "outputs": [
    {
     "data": {
      "text/plain": [
       "17"
      ]
     },
     "execution_count": 102,
     "metadata": {},
     "output_type": "execute_result"
    }
   ],
   "source": [
    "len(code_pols.source.unique())"
   ]
  },
  {
   "cell_type": "code",
   "execution_count": 101,
   "metadata": {},
   "outputs": [],
   "source": [
    "code_pols.to_csv(\"test.csv\", sep=\"\\t\")"
   ]
  },
  {
   "cell_type": "code",
   "execution_count": 63,
   "metadata": {},
   "outputs": [
    {
     "data": {
      "text/html": [
       "<div>\n",
       "<style scoped>\n",
       "    .dataframe tbody tr th:only-of-type {\n",
       "        vertical-align: middle;\n",
       "    }\n",
       "\n",
       "    .dataframe tbody tr th {\n",
       "        vertical-align: top;\n",
       "    }\n",
       "\n",
       "    .dataframe thead th {\n",
       "        text-align: right;\n",
       "    }\n",
       "</style>\n",
       "<table border=\"1\" class=\"dataframe\">\n",
       "  <thead>\n",
       "    <tr style=\"text-align: right;\">\n",
       "      <th></th>\n",
       "      <th></th>\n",
       "      <th>lang_count</th>\n",
       "      <th>mean_prec</th>\n",
       "    </tr>\n",
       "    <tr>\n",
       "      <th>source</th>\n",
       "      <th>lang</th>\n",
       "      <th></th>\n",
       "      <th></th>\n",
       "    </tr>\n",
       "  </thead>\n",
       "  <tbody>\n",
       "    <tr>\n",
       "      <th rowspan=\"2\" valign=\"top\">https://1password.com/legal/privacy/</th>\n",
       "      <th>de</th>\n",
       "      <td>1</td>\n",
       "      <td>0.992305</td>\n",
       "    </tr>\n",
       "    <tr>\n",
       "      <th>en</th>\n",
       "      <td>235</td>\n",
       "      <td>0.903557</td>\n",
       "    </tr>\n",
       "    <tr>\n",
       "      <th rowspan=\"3\" valign=\"top\">https://2ndline.co/privacy</th>\n",
       "      <th>ca</th>\n",
       "      <td>1</td>\n",
       "      <td>0.194010</td>\n",
       "    </tr>\n",
       "    <tr>\n",
       "      <th>da</th>\n",
       "      <td>1</td>\n",
       "      <td>0.091287</td>\n",
       "    </tr>\n",
       "    <tr>\n",
       "      <th>en</th>\n",
       "      <td>157</td>\n",
       "      <td>0.788028</td>\n",
       "    </tr>\n",
       "    <tr>\n",
       "      <th>...</th>\n",
       "      <th>...</th>\n",
       "      <td>...</td>\n",
       "      <td>...</td>\n",
       "    </tr>\n",
       "    <tr>\n",
       "      <th rowspan=\"5\" valign=\"top\">https://zoom.us/privacy</th>\n",
       "      <th>ta</th>\n",
       "      <td>1</td>\n",
       "      <td>0.074757</td>\n",
       "    </tr>\n",
       "    <tr>\n",
       "      <th>tg</th>\n",
       "      <td>1</td>\n",
       "      <td>0.110482</td>\n",
       "    </tr>\n",
       "    <tr>\n",
       "      <th>tr</th>\n",
       "      <td>5</td>\n",
       "      <td>0.205257</td>\n",
       "    </tr>\n",
       "    <tr>\n",
       "      <th>uk</th>\n",
       "      <td>1</td>\n",
       "      <td>0.062008</td>\n",
       "    </tr>\n",
       "    <tr>\n",
       "      <th>vi</th>\n",
       "      <td>1</td>\n",
       "      <td>0.135604</td>\n",
       "    </tr>\n",
       "  </tbody>\n",
       "</table>\n",
       "<p>959 rows × 2 columns</p>\n",
       "</div>"
      ],
      "text/plain": [
       "                                           lang_count  mean_prec\n",
       "source                               lang                       \n",
       "https://1password.com/legal/privacy/ de             1   0.992305\n",
       "                                     en           235   0.903557\n",
       "https://2ndline.co/privacy           ca             1   0.194010\n",
       "                                     da             1   0.091287\n",
       "                                     en           157   0.788028\n",
       "...                                               ...        ...\n",
       "https://zoom.us/privacy              ta             1   0.074757\n",
       "                                     tg             1   0.110482\n",
       "                                     tr             5   0.205257\n",
       "                                     uk             1   0.062008\n",
       "                                     vi             1   0.135604\n",
       "\n",
       "[959 rows x 2 columns]"
      ]
     },
     "execution_count": 63,
     "metadata": {},
     "output_type": "execute_result"
    }
   ],
   "source": [
    "# check languages\n",
    "all_text.groupby([\"source\", \"lang\"]).agg(lang_count=('prec', 'count'), mean_prec=('prec', 'mean'),)\n"
   ]
  },
  {
   "cell_type": "code",
   "execution_count": 57,
   "metadata": {},
   "outputs": [],
   "source": [
    "# remove from data set\n",
    "all_text= all_text[all_text[\"text\"]!=\"ERROR\"]\n",
    "# change column type\n",
    "all_text['prec'] = pd.to_numeric(all_text.prec)"
   ]
  },
  {
   "cell_type": "code",
   "execution_count": 18,
   "metadata": {},
   "outputs": [],
   "source": [
    "counts = all_text['source'].value_counts()"
   ]
  },
  {
   "cell_type": "code",
   "execution_count": 168,
   "metadata": {},
   "outputs": [
    {
     "data": {
      "image/png": "[encoded data removed]",
      "text/plain": [
       "<Figure size 432x288 with 1 Axes>"
      ]
     },
     "metadata": {
      "needs_background": "light"
     },
     "output_type": "display_data"
    }
   ],
   "source": [
    "plt.hist(counts, bins=250)\n",
    "plt.xlabel('extracted sentences')\n",
    "plt.ylabel('count')\n",
    "\n",
    "plt.show()"
   ]
  },
  {
   "cell_type": "code",
   "execution_count": 50,
   "metadata": {},
   "outputs": [],
   "source": [
    "blw_100 = []\n",
    "for i, count in enumerate(counts):\n",
    "    if count < 30:\n",
    "        blw_100.append(counts.index[i])"
   ]
  },
  {
   "cell_type": "code",
   "execution_count": 51,
   "metadata": {},
   "outputs": [],
   "source": [
    "blw100_df = all_text[all_text.source.isin(blw_100)]"
   ]
  },
  {
   "cell_type": "code",
   "execution_count": 52,
   "metadata": {},
   "outputs": [],
   "source": [
    "blw100_df.to_csv(\"test.csv\", sep=\"\\t\")"
   ]
  },
  {
   "cell_type": "code",
   "execution_count": 24,
   "metadata": {},
   "outputs": [
    {
     "data": {
      "text/plain": [
       "Index(['https://privacy.microsoft.com/en-us/privacystatement',\n",
       "       'https://asana.com/terms#privacy-policy',\n",
       "       'https://www.ebay.com/help/policies/member-behaviour-policies/user-privacy-notice-privacy-policy?id=4260',\n",
       "       'https://www.bhphotovideo.com/find/HelpCenter/Policies.jsp#privacySecurity',\n",
       "       'https://kb.newegg.com/knowledge-base/privacy-policy-newegg',\n",
       "       'https://www.skillshare.com/privacy',\n",
       "       'https://www.tenable.com/privacy-policy',\n",
       "       'https://www.cnn.com/privacy0?no-st=9999999999',\n",
       "       'https://wire.com/en/legal/#privacy',\n",
       "       'https://www.dynadot.com/privacy_policy.html',\n",
       "       ...\n",
       "       'https://quad9.net/policy/', 'https://www.revolut.com/legal/privacy',\n",
       "       'https://www.bestbuy.com/site/help-topics/privacy-policy/pcmcat204400050062.c?id=pcmcat204400050062',\n",
       "       'https://www.hdtracks.com/#/privacy', 'https://openbazaar.org/privacy/',\n",
       "       'https://www.notion.so/3468d120cf614d4c9014c09f6adc9091',\n",
       "       'https://houseparty.com/privacy/', 'https://dashradio.com/privacy/',\n",
       "       'https://ruqqus.com/help/privacy', 'https://mega.nz/privacy'],\n",
       "      dtype='object', length=236)"
      ]
     },
     "execution_count": 24,
     "metadata": {},
     "output_type": "execute_result"
    }
   ],
   "source": [
    "counts.index"
   ]
  }
 ],
 "metadata": {
  "kernelspec": {
   "display_name": "Python 3",
   "language": "python",
   "name": "python3"
  },
  "language_info": {
   "codemirror_mode": {
    "name": "ipython",
    "version": 3
   },
   "file_extension": ".py",
   "mimetype": "text/x-python",
   "name": "python",
   "nbconvert_exporter": "python",
   "pygments_lexer": "ipython3",
   "version": "3.7.4"
  }
 },
 "nbformat": 4,
 "nbformat_minor": 2
}
