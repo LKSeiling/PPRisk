{
 "cells": [
  {
   "cell_type": "code",
   "execution_count": 6,
   "metadata": {},
   "outputs": [],
   "source": [
    "from os import getcwd,walk,listdir,path\n",
    "import pandas as pd\n",
    "import numpy as np"
   ]
  },
  {
   "cell_type": "code",
   "execution_count": 56,
   "metadata": {},
   "outputs": [],
   "source": [
    "base_path = \"\".join([getcwd(),\"/../data/sources/OPP-115/consolidation\"])"
   ]
  },
  {
   "cell_type": "code",
   "execution_count": 57,
   "metadata": {},
   "outputs": [],
   "source": [
    "base_path = path.abspath(base_path)"
   ]
  },
  {
   "cell_type": "code",
   "execution_count": 58,
   "metadata": {},
   "outputs": [
    {
     "data": {
      "text/plain": [
       "'/home/lks/Documents/IM_MA/Codebase/data/sources/OPP-115/consolidation'"
      ]
     },
     "execution_count": 58,
     "metadata": {},
     "output_type": "execute_result"
    }
   ],
   "source": [
    "base_path"
   ]
  },
  {
   "cell_type": "code",
   "execution_count": 23,
   "metadata": {},
   "outputs": [],
   "source": [
    "def return_num_cons(path):\n",
    "    count = 0\n",
    "    for csv_file in listdir(path):\n",
    "        if \".csv\" in csv_file:\n",
    "            path_to_file = \"\".join([path,\"/\", csv_file])\n",
    "            df = pd.read_csv(path_to_file,header=None)\n",
    "            if pd.api.types.is_string_dtype(df[0].dtype):\n",
    "                count = count + len(df[df[0].str.contains('C')])\n",
    "    return count"
   ]
  },
  {
   "cell_type": "code",
   "execution_count": 24,
   "metadata": {},
   "outputs": [
    {
     "name": "stdout",
     "output_type": "stream",
     "text": [
      "threshold-0.75-overlap-similarity: 2771\n",
      "threshold-0.5-overlap-similarity: 4900\n",
      "threshold-1.0-overlap-similarity: 1340\n"
     ]
    }
   ],
   "source": [
    "for f in listdir(base_path):\n",
    "    print(\"{}: {}\".format(f, return_num_cons(\"\".join([base_path,\"/\",f]))))"
   ]
  },
  {
   "cell_type": "code",
   "execution_count": 59,
   "metadata": {},
   "outputs": [],
   "source": [
    "base_path = \"\".join([base_path,\"/threshold-0.75-overlap-similarity\"])"
   ]
  },
  {
   "cell_type": "code",
   "execution_count": 60,
   "metadata": {},
   "outputs": [],
   "source": [
    "df = pd.read_csv(\"\".join([base_path,\"/20_theatlantic.com.csv\"]),header=None)"
   ]
  },
  {
   "cell_type": "code",
   "execution_count": 61,
   "metadata": {},
   "outputs": [],
   "source": [
    "df_rel = df[df[0].str.contains('C')]"
   ]
  },
  {
   "cell_type": "code",
   "execution_count": 62,
   "metadata": {},
   "outputs": [
    {
     "data": {
      "text/html": [
       "<div>\n",
       "<style scoped>\n",
       "    .dataframe tbody tr th:only-of-type {\n",
       "        vertical-align: middle;\n",
       "    }\n",
       "\n",
       "    .dataframe tbody tr th {\n",
       "        vertical-align: top;\n",
       "    }\n",
       "\n",
       "    .dataframe thead th {\n",
       "        text-align: right;\n",
       "    }\n",
       "</style>\n",
       "<table border=\"1\" class=\"dataframe\">\n",
       "  <thead>\n",
       "    <tr style=\"text-align: right;\">\n",
       "      <th></th>\n",
       "      <th>0</th>\n",
       "      <th>1</th>\n",
       "      <th>2</th>\n",
       "      <th>3</th>\n",
       "      <th>4</th>\n",
       "      <th>5</th>\n",
       "      <th>6</th>\n",
       "      <th>7</th>\n",
       "      <th>8</th>\n",
       "    </tr>\n",
       "  </thead>\n",
       "  <tbody>\n",
       "    <tr>\n",
       "      <th>0</th>\n",
       "      <td>C223</td>\n",
       "      <td>test_category_labeling_highlight</td>\n",
       "      <td>88</td>\n",
       "      <td>3635</td>\n",
       "      <td>0</td>\n",
       "      <td>Other</td>\n",
       "      <td>{\"Other Type\": {\"endIndexInSegment\": 762, \"sta...</td>\n",
       "      <td>1/1/15</td>\n",
       "      <td>http://www.theatlantic.com/privacy-policy/</td>\n",
       "    </tr>\n",
       "    <tr>\n",
       "      <th>1</th>\n",
       "      <td>C224</td>\n",
       "      <td>test_category_labeling_highlight</td>\n",
       "      <td>88</td>\n",
       "      <td>3635</td>\n",
       "      <td>1</td>\n",
       "      <td>Other</td>\n",
       "      <td>{\"Other Type\": {\"endIndexInSegment\": 219, \"sta...</td>\n",
       "      <td>1/1/15</td>\n",
       "      <td>http://www.theatlantic.com/privacy-policy/</td>\n",
       "    </tr>\n",
       "    <tr>\n",
       "      <th>2</th>\n",
       "      <td>C225</td>\n",
       "      <td>test_category_labeling_highlight</td>\n",
       "      <td>84</td>\n",
       "      <td>3635</td>\n",
       "      <td>2</td>\n",
       "      <td>Policy Change</td>\n",
       "      <td>{\"Change Type\": {\"endIndexInSegment\": -1, \"sta...</td>\n",
       "      <td>1/1/15</td>\n",
       "      <td>http://www.theatlantic.com/privacy-policy/</td>\n",
       "    </tr>\n",
       "    <tr>\n",
       "      <th>8</th>\n",
       "      <td>C226</td>\n",
       "      <td>test_category_labeling_highlight</td>\n",
       "      <td>82</td>\n",
       "      <td>3635</td>\n",
       "      <td>3</td>\n",
       "      <td>First Party Collection/Use</td>\n",
       "      <td>{\"Collection Mode\": {\"endIndexInSegment\": -1, ...</td>\n",
       "      <td>1/1/15</td>\n",
       "      <td>http://www.theatlantic.com/privacy-policy/</td>\n",
       "    </tr>\n",
       "    <tr>\n",
       "      <th>93</th>\n",
       "      <td>C227</td>\n",
       "      <td>test_category_labeling_highlight</td>\n",
       "      <td>88</td>\n",
       "      <td>3635</td>\n",
       "      <td>12</td>\n",
       "      <td>Do Not Track</td>\n",
       "      <td>{\"Do Not Track policy\": {\"endIndexInSegment\": ...</td>\n",
       "      <td>1/1/15</td>\n",
       "      <td>http://www.theatlantic.com/privacy-policy/</td>\n",
       "    </tr>\n",
       "    <tr>\n",
       "      <th>150</th>\n",
       "      <td>C228</td>\n",
       "      <td>test_category_labeling_highlight</td>\n",
       "      <td>88</td>\n",
       "      <td>3635</td>\n",
       "      <td>21</td>\n",
       "      <td>Other</td>\n",
       "      <td>{\"Other Type\": {\"endIndexInSegment\": 289, \"sta...</td>\n",
       "      <td>1/1/15</td>\n",
       "      <td>http://www.theatlantic.com/privacy-policy/</td>\n",
       "    </tr>\n",
       "    <tr>\n",
       "      <th>167</th>\n",
       "      <td>C229</td>\n",
       "      <td>test_category_labeling_highlight</td>\n",
       "      <td>88</td>\n",
       "      <td>3635</td>\n",
       "      <td>25</td>\n",
       "      <td>User Choice/Control</td>\n",
       "      <td>{\"Choice Type\": {\"endIndexInSegment\": 292, \"st...</td>\n",
       "      <td>1/1/15</td>\n",
       "      <td>http://www.theatlantic.com/privacy-policy/</td>\n",
       "    </tr>\n",
       "    <tr>\n",
       "      <th>172</th>\n",
       "      <td>C230</td>\n",
       "      <td>test_category_labeling_highlight</td>\n",
       "      <td>88</td>\n",
       "      <td>3635</td>\n",
       "      <td>27</td>\n",
       "      <td>International and Specific Audiences</td>\n",
       "      <td>{\"Audience Type\": {\"endIndexInSegment\": 498, \"...</td>\n",
       "      <td>1/1/15</td>\n",
       "      <td>http://www.theatlantic.com/privacy-policy/</td>\n",
       "    </tr>\n",
       "    <tr>\n",
       "      <th>174</th>\n",
       "      <td>C231</td>\n",
       "      <td>test_category_labeling_highlight</td>\n",
       "      <td>88</td>\n",
       "      <td>3635</td>\n",
       "      <td>28</td>\n",
       "      <td>Data Security</td>\n",
       "      <td>{\"Security Measure\": {\"endIndexInSegment\": 103...</td>\n",
       "      <td>1/1/15</td>\n",
       "      <td>http://www.theatlantic.com/privacy-policy/</td>\n",
       "    </tr>\n",
       "    <tr>\n",
       "      <th>181</th>\n",
       "      <td>C232</td>\n",
       "      <td>test_category_labeling_highlight</td>\n",
       "      <td>82</td>\n",
       "      <td>3635</td>\n",
       "      <td>30</td>\n",
       "      <td>Other</td>\n",
       "      <td>{\"Other Type\": {\"endIndexInSegment\": 518, \"sta...</td>\n",
       "      <td>1/1/15</td>\n",
       "      <td>http://www.theatlantic.com/privacy-policy/</td>\n",
       "    </tr>\n",
       "    <tr>\n",
       "      <th>184</th>\n",
       "      <td>C233</td>\n",
       "      <td>test_category_labeling_highlight</td>\n",
       "      <td>82</td>\n",
       "      <td>3635</td>\n",
       "      <td>31</td>\n",
       "      <td>International and Specific Audiences</td>\n",
       "      <td>{\"Audience Type\": {\"endIndexInSegment\": 776, \"...</td>\n",
       "      <td>1/1/15</td>\n",
       "      <td>http://www.theatlantic.com/privacy-policy/</td>\n",
       "    </tr>\n",
       "    <tr>\n",
       "      <th>188</th>\n",
       "      <td>C234</td>\n",
       "      <td>test_category_labeling_highlight</td>\n",
       "      <td>82</td>\n",
       "      <td>3635</td>\n",
       "      <td>32</td>\n",
       "      <td>International and Specific Audiences</td>\n",
       "      <td>{\"Audience Type\": {\"endIndexInSegment\": 505, \"...</td>\n",
       "      <td>1/1/15</td>\n",
       "      <td>http://www.theatlantic.com/privacy-policy/</td>\n",
       "    </tr>\n",
       "    <tr>\n",
       "      <th>196</th>\n",
       "      <td>C235</td>\n",
       "      <td>test_category_labeling_highlight</td>\n",
       "      <td>88</td>\n",
       "      <td>3635</td>\n",
       "      <td>34</td>\n",
       "      <td>Other</td>\n",
       "      <td>{\"Other Type\": {\"endIndexInSegment\": 514, \"sta...</td>\n",
       "      <td>1/1/15</td>\n",
       "      <td>http://www.theatlantic.com/privacy-policy/</td>\n",
       "    </tr>\n",
       "  </tbody>\n",
       "</table>\n",
       "</div>"
      ],
      "text/plain": [
       "        0                                 1   2     3   4  \\\n",
       "0    C223  test_category_labeling_highlight  88  3635   0   \n",
       "1    C224  test_category_labeling_highlight  88  3635   1   \n",
       "2    C225  test_category_labeling_highlight  84  3635   2   \n",
       "8    C226  test_category_labeling_highlight  82  3635   3   \n",
       "93   C227  test_category_labeling_highlight  88  3635  12   \n",
       "150  C228  test_category_labeling_highlight  88  3635  21   \n",
       "167  C229  test_category_labeling_highlight  88  3635  25   \n",
       "172  C230  test_category_labeling_highlight  88  3635  27   \n",
       "174  C231  test_category_labeling_highlight  88  3635  28   \n",
       "181  C232  test_category_labeling_highlight  82  3635  30   \n",
       "184  C233  test_category_labeling_highlight  82  3635  31   \n",
       "188  C234  test_category_labeling_highlight  82  3635  32   \n",
       "196  C235  test_category_labeling_highlight  88  3635  34   \n",
       "\n",
       "                                        5  \\\n",
       "0                                   Other   \n",
       "1                                   Other   \n",
       "2                           Policy Change   \n",
       "8              First Party Collection/Use   \n",
       "93                           Do Not Track   \n",
       "150                                 Other   \n",
       "167                   User Choice/Control   \n",
       "172  International and Specific Audiences   \n",
       "174                         Data Security   \n",
       "181                                 Other   \n",
       "184  International and Specific Audiences   \n",
       "188  International and Specific Audiences   \n",
       "196                                 Other   \n",
       "\n",
       "                                                     6       7  \\\n",
       "0    {\"Other Type\": {\"endIndexInSegment\": 762, \"sta...  1/1/15   \n",
       "1    {\"Other Type\": {\"endIndexInSegment\": 219, \"sta...  1/1/15   \n",
       "2    {\"Change Type\": {\"endIndexInSegment\": -1, \"sta...  1/1/15   \n",
       "8    {\"Collection Mode\": {\"endIndexInSegment\": -1, ...  1/1/15   \n",
       "93   {\"Do Not Track policy\": {\"endIndexInSegment\": ...  1/1/15   \n",
       "150  {\"Other Type\": {\"endIndexInSegment\": 289, \"sta...  1/1/15   \n",
       "167  {\"Choice Type\": {\"endIndexInSegment\": 292, \"st...  1/1/15   \n",
       "172  {\"Audience Type\": {\"endIndexInSegment\": 498, \"...  1/1/15   \n",
       "174  {\"Security Measure\": {\"endIndexInSegment\": 103...  1/1/15   \n",
       "181  {\"Other Type\": {\"endIndexInSegment\": 518, \"sta...  1/1/15   \n",
       "184  {\"Audience Type\": {\"endIndexInSegment\": 776, \"...  1/1/15   \n",
       "188  {\"Audience Type\": {\"endIndexInSegment\": 505, \"...  1/1/15   \n",
       "196  {\"Other Type\": {\"endIndexInSegment\": 514, \"sta...  1/1/15   \n",
       "\n",
       "                                              8  \n",
       "0    http://www.theatlantic.com/privacy-policy/  \n",
       "1    http://www.theatlantic.com/privacy-policy/  \n",
       "2    http://www.theatlantic.com/privacy-policy/  \n",
       "8    http://www.theatlantic.com/privacy-policy/  \n",
       "93   http://www.theatlantic.com/privacy-policy/  \n",
       "150  http://www.theatlantic.com/privacy-policy/  \n",
       "167  http://www.theatlantic.com/privacy-policy/  \n",
       "172  http://www.theatlantic.com/privacy-policy/  \n",
       "174  http://www.theatlantic.com/privacy-policy/  \n",
       "181  http://www.theatlantic.com/privacy-policy/  \n",
       "184  http://www.theatlantic.com/privacy-policy/  \n",
       "188  http://www.theatlantic.com/privacy-policy/  \n",
       "196  http://www.theatlantic.com/privacy-policy/  "
      ]
     },
     "execution_count": 62,
     "metadata": {},
     "output_type": "execute_result"
    }
   ],
   "source": [
    "df_rel"
   ]
  },
  {
   "cell_type": "code",
   "execution_count": 63,
   "metadata": {},
   "outputs": [],
   "source": [
    "rel_dat = df_rel.iloc[[0]][6]"
   ]
  },
  {
   "cell_type": "code",
   "execution_count": 71,
   "metadata": {},
   "outputs": [],
   "source": [
    "rel_dat = df_rel[6].loc[df_rel.index[0]]"
   ]
  },
  {
   "cell_type": "code",
   "execution_count": 65,
   "metadata": {},
   "outputs": [],
   "source": [
    "from json import loads"
   ]
  },
  {
   "cell_type": "code",
   "execution_count": 72,
   "metadata": {},
   "outputs": [
    {
     "data": {
      "text/plain": [
       "{'Other Type': {'endIndexInSegment': 762,\n",
       "  'startIndexInSegment': 100,\n",
       "  'selectedText': 'At the Atlantic Monthly Group, Inc. (\"The Atlantic\"), we want you to enjoy and benefit from our websites and online services secure in the knowledge that we have implemented fair information practices designed to protect your privacy. Our privacy policy is applicable to The Atlantic, and The Atlantics affiliates and subsidiaries whose websites, mobile applications and other online services are directly linked (the Sites). The privacy policy describes the kinds of information we may gather during your visit to these Sites, how we use your information, when we might disclose your personally identifiable information, and how you can manage your information.',\n",
       "  'value': 'Introductory/Generic'}}"
      ]
     },
     "execution_count": 72,
     "metadata": {},
     "output_type": "execute_result"
    }
   ],
   "source": [
    "loads(rel_dat)"
   ]
  },
  {
   "cell_type": "code",
   "execution_count": 115,
   "metadata": {},
   "outputs": [
    {
     "data": {
      "text/html": [
       "<div>\n",
       "<style scoped>\n",
       "    .dataframe tbody tr th:only-of-type {\n",
       "        vertical-align: middle;\n",
       "    }\n",
       "\n",
       "    .dataframe tbody tr th {\n",
       "        vertical-align: top;\n",
       "    }\n",
       "\n",
       "    .dataframe thead th {\n",
       "        text-align: right;\n",
       "    }\n",
       "</style>\n",
       "<table border=\"1\" class=\"dataframe\">\n",
       "  <thead>\n",
       "    <tr style=\"text-align: right;\">\n",
       "      <th></th>\n",
       "      <th>endIndexInSegment</th>\n",
       "      <th>startIndexInSegment</th>\n",
       "      <th>value</th>\n",
       "      <th>selectedText</th>\n",
       "    </tr>\n",
       "  </thead>\n",
       "  <tbody>\n",
       "    <tr>\n",
       "      <th>Collection Mode</th>\n",
       "      <td>-1</td>\n",
       "      <td>-1</td>\n",
       "      <td>Unspecified</td>\n",
       "      <td>NaN</td>\n",
       "    </tr>\n",
       "    <tr>\n",
       "      <th>Choice Scope</th>\n",
       "      <td>-1</td>\n",
       "      <td>-1</td>\n",
       "      <td>Unspecified</td>\n",
       "      <td>NaN</td>\n",
       "    </tr>\n",
       "    <tr>\n",
       "      <th>Action First-Party</th>\n",
       "      <td>-1</td>\n",
       "      <td>-1</td>\n",
       "      <td>Unspecified</td>\n",
       "      <td>NaN</td>\n",
       "    </tr>\n",
       "    <tr>\n",
       "      <th>Personal Information Type</th>\n",
       "      <td>402</td>\n",
       "      <td>390</td>\n",
       "      <td>Demographic</td>\n",
       "      <td>demographics</td>\n",
       "    </tr>\n",
       "    <tr>\n",
       "      <th>Choice Type</th>\n",
       "      <td>-1</td>\n",
       "      <td>-1</td>\n",
       "      <td>Unspecified</td>\n",
       "      <td>NaN</td>\n",
       "    </tr>\n",
       "    <tr>\n",
       "      <th>Identifiability</th>\n",
       "      <td>181</td>\n",
       "      <td>154</td>\n",
       "      <td>Aggregated or anonymized</td>\n",
       "      <td>non-personally identifiable</td>\n",
       "    </tr>\n",
       "    <tr>\n",
       "      <th>Does/Does Not</th>\n",
       "      <td>70</td>\n",
       "      <td>60</td>\n",
       "      <td>Does</td>\n",
       "      <td>We collect</td>\n",
       "    </tr>\n",
       "    <tr>\n",
       "      <th>User Type</th>\n",
       "      <td>-1</td>\n",
       "      <td>-1</td>\n",
       "      <td>Unspecified</td>\n",
       "      <td>NaN</td>\n",
       "    </tr>\n",
       "    <tr>\n",
       "      <th>Purpose</th>\n",
       "      <td>152</td>\n",
       "      <td>111</td>\n",
       "      <td>Basic service/feature</td>\n",
       "      <td>in conjunction with your use of the Sites</td>\n",
       "    </tr>\n",
       "  </tbody>\n",
       "</table>\n",
       "</div>"
      ],
      "text/plain": [
       "                          endIndexInSegment startIndexInSegment  \\\n",
       "Collection Mode                          -1                  -1   \n",
       "Choice Scope                             -1                  -1   \n",
       "Action First-Party                       -1                  -1   \n",
       "Personal Information Type               402                 390   \n",
       "Choice Type                              -1                  -1   \n",
       "Identifiability                         181                 154   \n",
       "Does/Does Not                            70                  60   \n",
       "User Type                                -1                  -1   \n",
       "Purpose                                 152                 111   \n",
       "\n",
       "                                              value  \\\n",
       "Collection Mode                         Unspecified   \n",
       "Choice Scope                            Unspecified   \n",
       "Action First-Party                      Unspecified   \n",
       "Personal Information Type               Demographic   \n",
       "Choice Type                             Unspecified   \n",
       "Identifiability            Aggregated or anonymized   \n",
       "Does/Does Not                                  Does   \n",
       "User Type                               Unspecified   \n",
       "Purpose                       Basic service/feature   \n",
       "\n",
       "                                                        selectedText  \n",
       "Collection Mode                                                  NaN  \n",
       "Choice Scope                                                     NaN  \n",
       "Action First-Party                                               NaN  \n",
       "Personal Information Type                               demographics  \n",
       "Choice Type                                                      NaN  \n",
       "Identifiability                          non-personally identifiable  \n",
       "Does/Does Not                                             We collect  \n",
       "User Type                                                        NaN  \n",
       "Purpose                    in conjunction with your use of the Sites  "
      ]
     },
     "execution_count": 115,
     "metadata": {},
     "output_type": "execute_result"
    }
   ],
   "source": [
    "pd.DataFrame(loads(rel_dat)).transpose()"
   ]
  },
  {
   "cell_type": "code",
   "execution_count": 25,
   "metadata": {},
   "outputs": [],
   "source": [
    "def read_file(file_path):\n",
    "    with open(file_path, 'r') as f:\n",
    "        data = f.read()\n",
    "        f.close()\n",
    "    return data"
   ]
  },
  {
   "cell_type": "code",
   "execution_count": 38,
   "metadata": {},
   "outputs": [],
   "source": [
    "base_path = \"\".join([getcwd(),\"/../data/sources/OPP-115/sanitized_policies/\"])\n",
    "base_path = path.abspath(base_path)"
   ]
  },
  {
   "cell_type": "code",
   "execution_count": 39,
   "metadata": {},
   "outputs": [
    {
     "data": {
      "text/plain": [
       "'/home/lks/Documents/IM_MA/Codebase/data/sources/OPP-115/sanitized_policies'"
      ]
     },
     "execution_count": 39,
     "metadata": {},
     "output_type": "execute_result"
    }
   ],
   "source": [
    "base_path"
   ]
  },
  {
   "cell_type": "code",
   "execution_count": 41,
   "metadata": {},
   "outputs": [],
   "source": [
    "p_fname = [elem for elem in listdir(base_path) if 20 == int(elem.split(\"_\")[0])][0]"
   ]
  },
  {
   "cell_type": "code",
   "execution_count": 42,
   "metadata": {},
   "outputs": [],
   "source": [
    "t = read_file(\"\".join([base_path,\"/\", p_fname]))"
   ]
  },
  {
   "cell_type": "code",
   "execution_count": 75,
   "metadata": {},
   "outputs": [
    {
     "data": {
      "text/plain": [
       "'Our privacy policy is applicable to The Atlantic, and The Atlantics affiliates and subsidiaries whose websites, mobile applications and other online services are directly linked (the Sites).'"
      ]
     },
     "execution_count": 75,
     "metadata": {},
     "output_type": "execute_result"
    }
   ],
   "source": [
    "t.split(\"|||\")[0][335:525]"
   ]
  },
  {
   "cell_type": "code",
   "execution_count": 78,
   "metadata": {},
   "outputs": [
    {
     "data": {
      "text/plain": [
       "'1.0'"
      ]
     },
     "execution_count": 78,
     "metadata": {},
     "output_type": "execute_result"
    }
   ],
   "source": [
    "str(1.0)"
   ]
  },
  {
   "cell_type": "code",
   "execution_count": null,
   "metadata": {},
   "outputs": [],
   "source": [
    "# for each policy\n",
    "    # get individual sentences (inlcuding segement and segment indexes)\n",
    "    # label all as untagged\n",
    "    # if labels for policy exist\n",
    "        # get label indexes \n",
    "        # if labels overlap\n",
    "            # insert sentence(s) with remaining label(s)\n",
    "        # set label for relevant sentence\n",
    "    # save as new csv\n",
    "\n",
    "# extract relevant rows\n",
    "# clean rows\n",
    "# save rows again\n",
    "\n",
    "# clean according policy\n",
    "# drop already existing rows"
   ]
  }
 ],
 "metadata": {
  "kernelspec": {
   "display_name": "Python 3 (ipykernel)",
   "language": "python",
   "name": "python3"
  },
  "language_info": {
   "codemirror_mode": {
    "name": "ipython",
    "version": 3
   },
   "file_extension": ".py",
   "mimetype": "text/x-python",
   "name": "python",
   "nbconvert_exporter": "python",
   "pygments_lexer": "ipython3",
   "version": "3.8.12"
  }
 },
 "nbformat": 4,
 "nbformat_minor": 2
}
